{
 "cells": [
  {
   "cell_type": "markdown",
   "metadata": {
    "toc": true
   },
   "source": [
    "<h1>Table of Contents<span class=\"tocSkip\"></span></h1>\n",
    "<div class=\"toc\"><ul class=\"toc-item\"><li><span><a href=\"#Introduction\" data-toc-modified-id=\"Introduction-1\"><span class=\"toc-item-num\">1&nbsp;&nbsp;</span>Introduction</a></span></li><li><span><a href=\"#Objectives\" data-toc-modified-id=\"Objectives-2\"><span class=\"toc-item-num\">2&nbsp;&nbsp;</span>Objectives</a></span></li><li><span><a href=\"#Getting-Started\" data-toc-modified-id=\"Getting-Started-3\"><span class=\"toc-item-num\">3&nbsp;&nbsp;</span>Getting Started</a></span><ul class=\"toc-item\"><li><span><a href=\"#Defining-Our-Mappings\" data-toc-modified-id=\"Defining-Our-Mappings-3.1\"><span class=\"toc-item-num\">3.1&nbsp;&nbsp;</span>Defining Our Mappings</a></span></li><li><span><a href=\"#Creating-Our-Class-Mappings\" data-toc-modified-id=\"Creating-Our-Class-Mappings-3.2\"><span class=\"toc-item-num\">3.2&nbsp;&nbsp;</span>Creating Our Class Mappings</a></span></li></ul></li><li><span><a href=\"#Creating-Our-Database\" data-toc-modified-id=\"Creating-Our-Database-4\"><span class=\"toc-item-num\">4&nbsp;&nbsp;</span>Creating Our Database</a></span></li><li><span><a href=\"#CRUD-Operations\" data-toc-modified-id=\"CRUD-Operations-5\"><span class=\"toc-item-num\">5&nbsp;&nbsp;</span>CRUD Operations</a></span></li><li><span><a href=\"#Creating-a-Session-Object\" data-toc-modified-id=\"Creating-a-Session-Object-6\"><span class=\"toc-item-num\">6&nbsp;&nbsp;</span>Creating a Session Object</a></span></li><li><span><a href=\"#Summary\" data-toc-modified-id=\"Summary-7\"><span class=\"toc-item-num\">7&nbsp;&nbsp;</span>Summary</a></span></li></ul></div>"
   ]
  },
  {
   "cell_type": "markdown",
   "metadata": {},
   "source": [
    "# Using an ORM - Lab\n",
    "\n",
    "## Introduction\n",
    "\n",
    "In this lab, we'll make use of SQLAlchemy to execute CRUD operations on a SQL database!\n",
    "\n",
    "## Objectives\n",
    "\n",
    "You will be able to:\n",
    "\n",
    "* Identify the steps needed to use SQLAlchemy with a database\n",
    "* Understand and explain the concept of an Object Relational Mapper\n",
    "* Execute CRUD operations on a database using SQLAlchemy\n",
    "\n",
    "## Getting Started\n",
    "\n",
    "In this lesson, we'll make use of our newfound SQLAlchemy knowledge to create a database, populate it with data, and write queries to retrieve objects containing the information we want. \n",
    "\n",
    "We'll start by setting up our database. For this lesson, we're going to create then database described in the following ERD:\n",
    "\n",
    "<img src='erd.png'>\n",
    "\n",
    "\n",
    "**_Question:_**\n",
    "\n",
    "What sort of relationship do customers have with shopping carts? What sort of relationship do shopping carts have with items?\n",
    "\n",
    "Write your answer below this line:\n",
    "________________________________________________________________________________________________________________________________\n",
    "\n",
    "Customers have a 1-to-1 relationship with shopping carts, while shopping carts have 1-to-many relationship with items.\n",
    "\n",
    "\n",
    "### Defining Our Mappings\n",
    "\n",
    "We'll begin by importing everything we need to create our database and structure our mappings so that they look like the tables in the ERD.  \n",
    "\n",
    "In the cell below:\n",
    "\n",
    "* Import everything from sqlalchemy\n",
    "* Import `declarative_base` \n",
    "* Create a `Base` object"
   ]
  },
  {
   "cell_type": "code",
   "execution_count": 1,
   "metadata": {},
   "outputs": [],
   "source": [
    "from sqlalchemy import *\n",
    "from sqlalchemy.ext.declarative import declarative_base\n",
    "\n",
    "Base = declarative_base()"
   ]
  },
  {
   "cell_type": "markdown",
   "metadata": {},
   "source": [
    "Good! Now, since we'll need to define relationships between our tables, we'll need to import one more thing. In the cell below, import `relationship` from sqlalchemy's `orm` module. \n",
    "\n",
    "**_Note_**: Make sure you import `relationship`, not the plural `relationships`!"
   ]
  },
  {
   "cell_type": "code",
   "execution_count": 2,
   "metadata": {},
   "outputs": [],
   "source": [
    "from sqlalchemy.orm import relationship"
   ]
  },
  {
   "cell_type": "markdown",
   "metadata": {},
   "source": [
    "### Creating Our Class Mappings\n",
    "\n",
    "Now that we've created a `Base` object, we can define our classes! \n",
    "\n",
    "In order to set up our classes, we'll need to define:\n",
    "\n",
    "* The `__tablename__` for each class\n",
    "* The attributes of each class, which will be `Column` objects\n",
    "* The `relationship` that each class has to other classes\n",
    "\n",
    "Although we haven't explicitly covered how to create relationships, it's not hard--just a single line of code.  This is a great opportunity to get some practice finding what you need from documentation, and the SQLAlchemy documentation is really informative and easy to understand. \n",
    "\n",
    "We'll be creating a 1-to-1 relationship (Customer <--> ShoppingCart), and a 1-to-many relationship (ShoppingCart <--> Item). Take a look at the documentation for creating relationships and see if you can figure out how to set this up!\n",
    "\n",
    "In the cell below: \n",
    "\n",
    "* Complete the `Customer`, `ShoppingCart`, and `Item` classes. \n",
    "* Give each class the correct table name ('customer', 'shoppingCart', and 'item')\n",
    "* Define the correct columns for each class, with the appropriate data types, and set the appropriate primary key and foreign keys.\n",
    "* Set the appropriate relationships between classes.\n",
    "\n",
    "**_Hint:_** When setting the relationships, pay attention to the capitalization in the documentation--in some parts, you reference the name of the class, while in others, you reference the name of the table!\n",
    "\n",
    "**_Note:_** Running a cell more than one time will cause a \"Table is already defined\" error.  To fix this, just restart the kernel and run everything again. "
   ]
  },
  {
   "cell_type": "code",
   "execution_count": 3,
   "metadata": {},
   "outputs": [],
   "source": [
    "class Customer(Base):\n",
    "    __tablename__ = 'customer'\n",
    "    \n",
    "    id = Column(Integer, primary_key=True)\n",
    "    name = Column(String)\n",
    "    cart_id = Column(Integer, ForeignKey('shoppingCart.id'))\n",
    "    \n",
    "    # Create 1-to-1 relationship with ShoppingCart, as shown in the SQLAlchemy documentation\n",
    "    shoppingCart = relationship('ShoppingCart', uselist=False, back_populates='customer')\n"
   ]
  },
  {
   "cell_type": "code",
   "execution_count": 4,
   "metadata": {},
   "outputs": [],
   "source": [
    "class ShoppingCart(Base):\n",
    "    __tablename__ = \"shoppingCart\"\n",
    "    \n",
    "    id = Column(Integer, primary_key=True)\n",
    "    item_id = Column(Integer, ForeignKey('item.id'))\n",
    "    # Create 1-to-1 relationship with Customer\n",
    "    customer = relationship('Customer', uselist=False, back_populates='shoppingCart')\n",
    "    # Create 1-to-many relationship with Item\n",
    "    items = relationship('Item')"
   ]
  },
  {
   "cell_type": "code",
   "execution_count": 5,
   "metadata": {},
   "outputs": [],
   "source": [
    "class Item(Base):\n",
    "    __tablename__ = 'item'\n",
    "    \n",
    "    id = Column(Integer, primary_key=True)\n",
    "    description = Column(String)\n",
    "    price = Column(Float)"
   ]
  },
  {
   "cell_type": "markdown",
   "metadata": {},
   "source": [
    "## Creating Our Database\n",
    "\n",
    "Now that we've successfully defined our mappings, we can actually create our database. We'll call our database `shopping_cart.db`. \n",
    "\n",
    "When creating the engine, remember to put `sqlite:///` in front of the name of the database we'll be creating, and also set `echo=True`!\n",
    "\n",
    "In the cell below:\n",
    "\n",
    "* Create an `engine` using the appropriate method. \n",
    "* Use the `create_all()` method found inside of `Base.metadata` and pass in the engine object to create our database!"
   ]
  },
  {
   "cell_type": "code",
   "execution_count": 6,
   "metadata": {},
   "outputs": [
    {
     "name": "stdout",
     "output_type": "stream",
     "text": [
      "2019-06-26 21:01:02,376 INFO sqlalchemy.engine.base.Engine SELECT CAST('test plain returns' AS VARCHAR(60)) AS anon_1\n",
      "2019-06-26 21:01:02,377 INFO sqlalchemy.engine.base.Engine ()\n",
      "2019-06-26 21:01:02,377 INFO sqlalchemy.engine.base.Engine SELECT CAST('test unicode returns' AS VARCHAR(60)) AS anon_1\n",
      "2019-06-26 21:01:02,378 INFO sqlalchemy.engine.base.Engine ()\n",
      "2019-06-26 21:01:02,378 INFO sqlalchemy.engine.base.Engine PRAGMA table_info(\"customer\")\n",
      "2019-06-26 21:01:02,379 INFO sqlalchemy.engine.base.Engine ()\n",
      "2019-06-26 21:01:02,380 INFO sqlalchemy.engine.base.Engine PRAGMA table_info(\"shoppingCart\")\n",
      "2019-06-26 21:01:02,380 INFO sqlalchemy.engine.base.Engine ()\n",
      "2019-06-26 21:01:02,381 INFO sqlalchemy.engine.base.Engine PRAGMA table_info(\"item\")\n",
      "2019-06-26 21:01:02,381 INFO sqlalchemy.engine.base.Engine ()\n",
      "2019-06-26 21:01:02,382 INFO sqlalchemy.engine.base.Engine \n",
      "CREATE TABLE item (\n",
      "\tid INTEGER NOT NULL, \n",
      "\tdescription VARCHAR, \n",
      "\tprice FLOAT, \n",
      "\tPRIMARY KEY (id)\n",
      ")\n",
      "\n",
      "\n",
      "2019-06-26 21:01:02,383 INFO sqlalchemy.engine.base.Engine ()\n",
      "2019-06-26 21:01:02,393 INFO sqlalchemy.engine.base.Engine COMMIT\n",
      "2019-06-26 21:01:02,393 INFO sqlalchemy.engine.base.Engine \n",
      "CREATE TABLE \"shoppingCart\" (\n",
      "\tid INTEGER NOT NULL, \n",
      "\titem_id INTEGER, \n",
      "\tPRIMARY KEY (id), \n",
      "\tFOREIGN KEY(item_id) REFERENCES item (id)\n",
      ")\n",
      "\n",
      "\n",
      "2019-06-26 21:01:02,394 INFO sqlalchemy.engine.base.Engine ()\n",
      "2019-06-26 21:01:02,401 INFO sqlalchemy.engine.base.Engine COMMIT\n",
      "2019-06-26 21:01:02,402 INFO sqlalchemy.engine.base.Engine \n",
      "CREATE TABLE customer (\n",
      "\tid INTEGER NOT NULL, \n",
      "\tname VARCHAR, \n",
      "\tcart_id INTEGER, \n",
      "\tPRIMARY KEY (id), \n",
      "\tFOREIGN KEY(cart_id) REFERENCES \"shoppingCart\" (id)\n",
      ")\n",
      "\n",
      "\n",
      "2019-06-26 21:01:02,402 INFO sqlalchemy.engine.base.Engine ()\n",
      "2019-06-26 21:01:02,409 INFO sqlalchemy.engine.base.Engine COMMIT\n"
     ]
    }
   ],
   "source": [
    "engine = create_engine('sqlite:///shopping_cart.db', echo=True)\n",
    "Base.metadata.create_all(engine)\n",
    "\n"
   ]
  },
  {
   "cell_type": "markdown",
   "metadata": {},
   "source": [
    "## CRUD Operations\n",
    "\n",
    "We've now created a database, but our tables don't contain any data yet!\n",
    "\n",
    "We'll need to create some objects, and then populate the database with them.\n",
    "\n",
    "Run the cell below to some sample data for our tables."
   ]
  },
  {
   "cell_type": "code",
   "execution_count": 7,
   "metadata": {},
   "outputs": [],
   "source": [
    "customer1 = Customer(name=\"Jane\")\n",
    "item1 = Item(description=\"widget\", price=9.99)\n",
    "cart1 = ShoppingCart(customer=customer1, items = item1)\n",
    "customer1.shoppingCart = cart1"
   ]
  },
  {
   "cell_type": "markdown",
   "metadata": {},
   "source": [
    "Note that this data has not yet been put into the database.  Before that happens, we need to create a `session` object, then add these objects and commit them. We can double check this by examining the items and seeing that they don't yet have primary keys.  Run the cell below now to demonstrate this. "
   ]
  },
  {
   "cell_type": "code",
   "execution_count": 8,
   "metadata": {},
   "outputs": [
    {
     "data": {
      "text/plain": [
       "(None, None)"
      ]
     },
     "execution_count": 8,
     "metadata": {},
     "output_type": "execute_result"
    }
   ],
   "source": [
    "customer1.id, item1.id"
   ]
  },
  {
   "cell_type": "markdown",
   "metadata": {},
   "source": [
    "You may have noticed that we defined values for certain attributes such as the customer's name, or the item's description and price, but never attributes that act as ids.  There's a reason for this--SQLAlchemy takes care of this for us! Since every primary key has to be unique, this means that defining the integer values for primary keys would be really cumbersome, since we would need to keep track of every primary key that's been created so far--a much better task for a computer than for us!\n",
    "\n",
    "Another thing you might have noticed is that to create relationships between objects, we just assign them to attributes that were defined as `relationship` objects when we created our mappings!\n",
    "\n",
    "## Creating a Session Object\n",
    "\n",
    "In order to add our new data to our database tables, we first need to create a session object. \n",
    "\n",
    "In the cell below:\n",
    "\n",
    "* import `Session` and `sessionmaker` from `sqlalchemy.orm`\n",
    "* create a `sessionmaker` and set the `bind=` parameter to our `engine` object. Store this in `Session`\n",
    "* Instantiate a `Session()` object and store it in the variable `session`"
   ]
  },
  {
   "cell_type": "code",
   "execution_count": 10,
   "metadata": {},
   "outputs": [],
   "source": [
    "from sqlalchemy.orm import Session, sessionmaker\n",
    "\n",
    "Session = sessionmaker(bind=engine)\n",
    "\n",
    "session = Session()"
   ]
  },
  {
   "cell_type": "markdown",
   "metadata": {},
   "source": [
    "Great! Now we have a session object that we can use to interact with our database.\n",
    "\n",
    "We can add items to our database one at a time by passing them in as a parameter to `session.add()`. We can also add multiple items by passing them as a list into the `add_all()` method. In the cell below, use `add_all()` to add `customer1`, `cart1`, and `item1` into our database."
   ]
  },
  {
   "cell_type": "code",
   "execution_count": null,
   "metadata": {},
   "outputs": [],
   "source": []
  },
  {
   "cell_type": "code",
   "execution_count": 12,
   "metadata": {},
   "outputs": [],
   "source": [
    "session.add_all([customer1, cart1, item1])"
   ]
  },
  {
   "cell_type": "markdown",
   "metadata": {},
   "source": [
    "Adding something multiple times will not throw an error or cause duplicates.  We can see all the items that have been added by checking the session object's `.new` attribute. Do this now in the cell below."
   ]
  },
  {
   "cell_type": "code",
   "execution_count": 20,
   "metadata": {},
   "outputs": [
    {
     "data": {
      "text/plain": [
       "IdentitySet([<__main__.Customer object at 0x0000024319CBB6A0>, <__main__.ShoppingCart object at 0x0000024319E05080>, <__main__.Item object at 0x0000024319CBB978>])"
      ]
     },
     "execution_count": 20,
     "metadata": {},
     "output_type": "execute_result"
    }
   ],
   "source": [
    "session.add(item1)\n",
    "session.new"
   ]
  },
  {
   "cell_type": "markdown",
   "metadata": {},
   "source": [
    "Now, commit our objects to push them to the database. \n",
    "\n",
    "In the cell below, call `session.commit()`."
   ]
  },
  {
   "cell_type": "code",
   "execution_count": 21,
   "metadata": {},
   "outputs": [
    {
     "name": "stdout",
     "output_type": "stream",
     "text": [
      "2019-06-26 21:31:01,730 INFO sqlalchemy.engine.base.Engine BEGIN (implicit)\n",
      "2019-06-26 21:31:01,731 INFO sqlalchemy.engine.base.Engine INSERT INTO item (description, price) VALUES (?, ?)\n",
      "2019-06-26 21:31:01,732 INFO sqlalchemy.engine.base.Engine ('widget', 9.99)\n",
      "2019-06-26 21:31:01,734 INFO sqlalchemy.engine.base.Engine INSERT INTO \"shoppingCart\" (item_id) VALUES (?)\n",
      "2019-06-26 21:31:01,735 INFO sqlalchemy.engine.base.Engine (1,)\n",
      "2019-06-26 21:31:01,736 INFO sqlalchemy.engine.base.Engine INSERT INTO customer (name, cart_id) VALUES (?, ?)\n",
      "2019-06-26 21:31:01,738 INFO sqlalchemy.engine.base.Engine ('Jane', 1)\n",
      "2019-06-26 21:31:01,739 INFO sqlalchemy.engine.base.Engine COMMIT\n"
     ]
    }
   ],
   "source": [
    "session.commit()"
   ]
  },
  {
   "cell_type": "markdown",
   "metadata": {},
   "source": [
    "If we check the object ids again, we'll see that they now have values for their primary keys.\n",
    "\n",
    "In the cell below, check the `.id` attribute of `customer1`."
   ]
  },
  {
   "cell_type": "code",
   "execution_count": 26,
   "metadata": {},
   "outputs": [
    {
     "name": "stdout",
     "output_type": "stream",
     "text": [
      "2019-06-26 21:32:22,174 INFO sqlalchemy.engine.base.Engine SELECT \"shoppingCart\".id AS \"shoppingCart_id\", \"shoppingCart\".item_id AS \"shoppingCart_item_id\" \n",
      "FROM \"shoppingCart\" \n",
      "WHERE \"shoppingCart\".id = ?\n",
      "2019-06-26 21:32:22,175 INFO sqlalchemy.engine.base.Engine (1,)\n"
     ]
    },
    {
     "data": {
      "text/plain": [
       "<__main__.ShoppingCart at 0x24319e05080>"
      ]
     },
     "execution_count": 26,
     "metadata": {},
     "output_type": "execute_result"
    }
   ],
   "source": [
    "customer1.shoppingCart"
   ]
  },
  {
   "cell_type": "markdown",
   "metadata": {},
   "source": [
    "## Summary\n",
    "\n",
    "In this lab, we created a database with SQLAlchemy, defined our mappings to structure the tables, and even added some data to the database. Great job! "
   ]
  },
  {
   "cell_type": "code",
   "execution_count": null,
   "metadata": {},
   "outputs": [],
   "source": []
  }
 ],
 "metadata": {
  "kernelspec": {
   "display_name": "learn-env",
   "language": "python",
   "name": "learn-env"
  },
  "language_info": {
   "codemirror_mode": {
    "name": "ipython",
    "version": 3
   },
   "file_extension": ".py",
   "mimetype": "text/x-python",
   "name": "python",
   "nbconvert_exporter": "python",
   "pygments_lexer": "ipython3",
   "version": "3.7.1"
  },
  "toc": {
   "base_numbering": 1,
   "nav_menu": {},
   "number_sections": true,
   "sideBar": true,
   "skip_h1_title": true,
   "title_cell": "Table of Contents",
   "title_sidebar": "Contents",
   "toc_cell": true,
   "toc_position": {},
   "toc_section_display": true,
   "toc_window_display": false
  },
  "varInspector": {
   "cols": {
    "lenName": 16,
    "lenType": 16,
    "lenVar": 40
   },
   "kernels_config": {
    "python": {
     "delete_cmd_postfix": "",
     "delete_cmd_prefix": "del ",
     "library": "var_list.py",
     "varRefreshCmd": "print(var_dic_list())"
    },
    "r": {
     "delete_cmd_postfix": ") ",
     "delete_cmd_prefix": "rm(",
     "library": "var_list.r",
     "varRefreshCmd": "cat(var_dic_list()) "
    }
   },
   "types_to_exclude": [
    "module",
    "function",
    "builtin_function_or_method",
    "instance",
    "_Feature"
   ],
   "window_display": false
  }
 },
 "nbformat": 4,
 "nbformat_minor": 2
}
